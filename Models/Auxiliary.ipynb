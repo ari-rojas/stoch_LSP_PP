{
 "cells": [
  {
   "cell_type": "code",
   "execution_count": 1,
   "metadata": {},
   "outputs": [],
   "source": [
    "import numpy as np\n",
    "from pickle import load, dump\n",
    "import os"
   ]
  },
  {
   "cell_type": "markdown",
   "metadata": {},
   "source": [
    "# Change names\n"
   ]
  },
  {
   "cell_type": "code",
   "execution_count": 2,
   "metadata": {},
   "outputs": [],
   "source": [
    "a0 = [0.4, 0.5, 0.6, 0.7, 0.75, 0.8, 0.85, 0.9, 0.95, 0.975]\n",
    "an1 = [0.7, 0.75, 0.8, 0.85, 0.9, 0.95, 0.975]\n",
    "\n",
    "alpha = [(a,b) for a in a0 for b in an1 if a <= b]\n",
    "\n",
    "for folder in [\"Results\", \"Performance metrics\"]:\n",
    "    for (a,b) in alpha:\n",
    "        for strat in [\"stat\",\"dyn\"]:\n",
    "\n",
    "            old_file = os.path.join(f\"../Experiments/{folder}/\", f\"Age_service_level_{a,b}_stat-{strat}\")\n",
    "            new_file = os.path.join(f\"../Experiments/{folder}/\", f\"Age_service_level_{a,b}_0_1_stat-{strat}\")\n",
    "            \n",
    "            os.rename(old_file, new_file)\n"
   ]
  },
  {
   "cell_type": "markdown",
   "metadata": {},
   "source": [
    "# Demand break for FIFO stat-stat"
   ]
  },
  {
   "cell_type": "code",
   "execution_count": 7,
   "metadata": {},
   "outputs": [],
   "source": [
    "file = open(\"C:/Users/ari_r/OneDrive - Universidad de los andes/Montreal 2024-10/stoch_LSP_PP/Experiments/Parameters/Demand_T20_S150_n4\", \"rb\")\n",
    "d = load(file); file.close()\n",
    "\n",
    "file = open(\"C:/Users/ari_r/OneDrive - Universidad de los andes/Montreal 2024-10/stoch_LSP_PP/Experiments/Parameters/Global_T20_S150_n4\", \"rb\")\n",
    "(T, S, G, n, h, c, f, C) = load(file); file.close()"
   ]
  },
  {
   "cell_type": "code",
   "execution_count": 10,
   "metadata": {},
   "outputs": [],
   "source": [
    "compl_scenarios = [d[ix][s] for ix in d for s in S]\n",
    "compl_scenarios = compl_scenarios[:600]"
   ]
  },
  {
   "cell_type": "code",
   "execution_count": 16,
   "metadata": {},
   "outputs": [],
   "source": [
    "scenarios = 20; reps = 30\n",
    "\n",
    "new_demand = {ix:{(s+1):compl_scenarios[ix*scenarios+s] for s in range(scenarios)} for ix in range(reps)}"
   ]
  },
  {
   "cell_type": "code",
   "execution_count": 20,
   "metadata": {},
   "outputs": [],
   "source": [
    "file = open(\"C:/Users/ari_r/OneDrive - Universidad de los andes/Montreal 2024-10/stoch_LSP_PP/Experiments/Parameters/Demand_T20_S150_n4_FIFO\", \"wb\")\n",
    "dump(new_demand,file); file.close()\n"
   ]
  }
 ],
 "metadata": {
  "kernelspec": {
   "display_name": "Python 3",
   "language": "python",
   "name": "python3"
  },
  "language_info": {
   "codemirror_mode": {
    "name": "ipython",
    "version": 3
   },
   "file_extension": ".py",
   "mimetype": "text/x-python",
   "name": "python",
   "nbconvert_exporter": "python",
   "pygments_lexer": "ipython3",
   "version": "3.10.13"
  }
 },
 "nbformat": 4,
 "nbformat_minor": 2
}

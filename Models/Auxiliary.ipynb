{
 "cells": [
  {
   "cell_type": "code",
   "execution_count": 14,
   "metadata": {},
   "outputs": [],
   "source": [
    "import numpy as np\n",
    "from pickle import load, dump\n",
    "import os"
   ]
  },
  {
   "cell_type": "markdown",
   "metadata": {},
   "source": [
    "# Add other service level measures\n",
    "\n"
   ]
  },
  {
   "cell_type": "code",
   "execution_count": 12,
   "metadata": {},
   "outputs": [],
   "source": [
    "def import_results(exp, ab, beta, e, strat):\n",
    "\n",
    "    if exp == 1: tit = \"Age_service_level\"\n",
    "    elif exp == 2: tit = \"TP_service_level\"\n",
    "    elif exp == 3: tit = \"Waste_control\"\n",
    "\n",
    "    file = open(f\"../Experiments/Results/T30_S150_n4/{tit}_{ab}_{beta}_{e}_stat-{strat}\", \"rb\")\n",
    "    results = load(file); file.close()\n",
    "\n",
    "    return results\n",
    "\n",
    "def import_performance_metrics(exp, ab, beta, e, strat):\n",
    "\n",
    "    if exp == 1: tit = \"Age_service_level\"\n",
    "    elif exp == 2: tit = \"TP_service_level\"\n",
    "    elif exp == 3: tit = \"Waste_control\"\n",
    "\n",
    "    file = open(f\"../Experiments/Performance metrics/T30_S150_n4/{tit}_{ab}_{beta}_{e}_stat-{strat}\", \"rb\")\n",
    "    metrics = load(file); file.close()\n",
    "\n",
    "    return metrics\n",
    "\n",
    "def export_performance_metrics(tup, exp, ab, beta, e, strat):\n",
    "\n",
    "    if exp == 1: tit = \"Age_service_level\"\n",
    "    elif exp == 2: tit = \"TP_service_level\"\n",
    "    elif exp == 3: tit = \"Waste_control\"\n",
    "\n",
    "    new_dir = f\"../Experiments/Performance metrics/T30_S150_n4/\"\n",
    "    if not os.path.exists(new_dir): os.makedirs(new_dir)\n",
    "    file = open(new_dir + f\"{tit}_{ab}_{beta}_{e}_stat-{strat}\", \"wb\")\n",
    "    dump(tup, file); file.close()\n",
    "\n",
    "def import_global_parameters_and_demand(T,S,n):\n",
    "\n",
    "    file = open(f\"../Experiments/Parameters/Global_T{T}_S{S}_n{n}\", \"rb\")\n",
    "    params = load(file); file.close()\n",
    "\n",
    "    file = open(f\"../Experiments/Parameters/Demand_T{T}_S{S}_n{n}\", \"rb\")\n",
    "    d = load(file); file.close()\n",
    "\n",
    "    return params, d\n",
    "\n",
    "T = 30; S = 150; n = 4; reps = 5\n",
    "a0 = [0.4]; an1 = [0.7, 0.75, 0.8, 0.85, 0.9, 0.95, 0.975]\n",
    "all_betas = [0.4, 0.45, 0.5, 0.55, 0.6, 0.65, 0.7, 0.75, 0.8, 0.85, 0.9, 0.95, 0.975]\n",
    "betas = {b:[beta for beta in all_betas if beta <= b] for b in an1}; epsilons = [1]\n",
    "\n",
    "(T, S, G, n, h, c, f, C), d = import_global_parameters_and_demand(T, S, n)\n",
    "I0 = {g:0 for g in G[:-1]}; phi = {s:1/len(S) for s in S}\n",
    "alpha = {(a,b):{g:a if g < G[-1] else b for g in G} for a in a0 for b in an1 if a <= b}"
   ]
  },
  {
   "cell_type": "code",
   "execution_count": 13,
   "metadata": {},
   "outputs": [],
   "source": [
    "for strat in [\"stat\",\"dyn\"]:\n",
    "    for exp in [2]:\n",
    "        for (a,b) in alpha:\n",
    "            for beta in betas[b]:\n",
    "                for e in epsilons:\n",
    "                    \n",
    "                    y, x, z, l, w, I = import_results(exp, (a,b), beta, e, strat)\n",
    "                    holding, production, setup, total, period_sl, total_sl, waste_prod, waste_dem = import_performance_metrics(exp, (a,b), beta, e, strat)\n",
    "                    \n",
    "                    lit_period_sl = {ix:{(t,g):sum(phi[s]*sum(z[ix][s][t,k] for k in range(g+1)) for s in S)/sum(phi[s]*d[ix][s][t] for s in S) for t in T for g in G} for ix in range(reps)}\n",
    "                    lit_total_sl = {ix:{g:sum(phi[s]*sum(z[ix][s][t,k] for t in T for k in range(g+1)) for s in S)/sum(phi[s]*sum(d[ix][s][t] for t in T) for s in S) for g in G} for ix in range(reps)}\n",
    "                    \n",
    "                    export_performance_metrics((holding, production, setup, total, period_sl, total_sl, waste_prod, waste_dem, lit_period_sl, lit_total_sl), exp, (a,b), beta, e, strat)\n"
   ]
  },
  {
   "cell_type": "markdown",
   "metadata": {},
   "source": [
    "# Change names\n"
   ]
  },
  {
   "cell_type": "code",
   "execution_count": 19,
   "metadata": {},
   "outputs": [],
   "source": [
    "T = 30; S = 150; n = 4; reps = 5\n",
    "#a0 = [0.4, 0.5, 0.55, 0.6, 0.65, 0.7, 0.75, 0.8, 0.85, 0.9, 0.95, 0.975]; an1 = [0.7, 0.75, 0.8, 0.85, 0.9, 0.95, 0.975]\n",
    "a0 = [0.4]; an1 = [0.7, 0.75, 0.8, 0.85, 0.9, 0.95, 0.975]\n",
    "all_betas = [0.4, 0.45, 0.5, 0.55, 0.6, 0.65, 0.7, 0.75, 0.8, 0.85, 0.9, 0.95, 0.975]\n",
    "betas = {b:[beta for beta in all_betas if beta <= b] for b in an1}; epsilons = [1]\n",
    "#betas = {b:[0] for b in an1}; epsilons = [1]\n",
    "\n",
    "alpha = {(a,b):{g:a if g < G[-1] else b for g in G} for a in a0 for b in an1 if a <= b}"
   ]
  },
  {
   "cell_type": "code",
   "execution_count": 20,
   "metadata": {},
   "outputs": [],
   "source": [
    "\n",
    "for folder in [\"Results\", \"Performance metrics\"]:\n",
    "    for strat in [\"stat\",\"dyn\"]:\n",
    "        for (a,b) in alpha:\n",
    "            for beta in betas[b]:\n",
    "                for e in epsilons:\n",
    "\n",
    "                    old_file = os.path.join(f\"../Experiments/{folder}/T{T}_S{S}_n{n}/\", f\"TP_service_level_{a,b}_{beta}_{e}_stat-{strat}\")\n",
    "                    new_file = os.path.join(f\"../Experiments/{folder}/T{T}_S{S}_n{n}/\", f\"TP_service_level_{a,b}_{beta}_{e}_stat-{strat}_base\")\n",
    "                    \n",
    "                    os.rename(old_file, new_file)\n"
   ]
  },
  {
   "cell_type": "markdown",
   "metadata": {},
   "source": [
    "# Demand break for FIFO stat-stat"
   ]
  },
  {
   "cell_type": "code",
   "execution_count": 7,
   "metadata": {},
   "outputs": [],
   "source": [
    "file = open(\"C:/Users/ari_r/OneDrive - Universidad de los andes/Montreal 2024-10/stoch_LSP_PP/Experiments/Parameters/Demand_T20_S150_n4\", \"rb\")\n",
    "d = load(file); file.close()\n",
    "\n",
    "file = open(\"C:/Users/ari_r/OneDrive - Universidad de los andes/Montreal 2024-10/stoch_LSP_PP/Experiments/Parameters/Global_T20_S150_n4\", \"rb\")\n",
    "(T, S, G, n, h, c, f, C) = load(file); file.close()"
   ]
  },
  {
   "cell_type": "code",
   "execution_count": 10,
   "metadata": {},
   "outputs": [],
   "source": [
    "compl_scenarios = [d[ix][s] for ix in d for s in S]\n",
    "compl_scenarios = compl_scenarios[:600]"
   ]
  },
  {
   "cell_type": "code",
   "execution_count": 16,
   "metadata": {},
   "outputs": [],
   "source": [
    "scenarios = 20; reps = 30\n",
    "\n",
    "new_demand = {ix:{(s+1):compl_scenarios[ix*scenarios+s] for s in range(scenarios)} for ix in range(reps)}"
   ]
  },
  {
   "cell_type": "code",
   "execution_count": 20,
   "metadata": {},
   "outputs": [],
   "source": [
    "file = open(\"C:/Users/ari_r/OneDrive - Universidad de los andes/Montreal 2024-10/stoch_LSP_PP/Experiments/Parameters/Demand_T20_S150_n4_FIFO\", \"wb\")\n",
    "dump(new_demand,file); file.close()\n"
   ]
  }
 ],
 "metadata": {
  "kernelspec": {
   "display_name": "Python 3",
   "language": "python",
   "name": "python3"
  },
  "language_info": {
   "codemirror_mode": {
    "name": "ipython",
    "version": 3
   },
   "file_extension": ".py",
   "mimetype": "text/x-python",
   "name": "python",
   "nbconvert_exporter": "python",
   "pygments_lexer": "ipython3",
   "version": "3.10.13"
  }
 },
 "nbformat": 4,
 "nbformat_minor": 2
}

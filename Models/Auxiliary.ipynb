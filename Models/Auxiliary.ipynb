{
 "cells": [
  {
   "cell_type": "code",
   "execution_count": 3,
   "metadata": {},
   "outputs": [],
   "source": [
    "import numpy as np\n",
    "from pickle import load, dump"
   ]
  },
  {
   "cell_type": "code",
   "execution_count": 7,
   "metadata": {},
   "outputs": [],
   "source": [
    "file = open(\"C:/Users/ari_r/OneDrive - Universidad de los andes/Montreal 2024-10/stoch_LSP_PP/Experiments/Parameters/Demand_T20_S150_n4\", \"rb\")\n",
    "d = load(file); file.close()\n",
    "\n",
    "file = open(\"C:/Users/ari_r/OneDrive - Universidad de los andes/Montreal 2024-10/stoch_LSP_PP/Experiments/Parameters/Global_T20_S150_n4\", \"rb\")\n",
    "(T, S, G, n, h, c, f, C) = load(file); file.close()"
   ]
  },
  {
   "cell_type": "code",
   "execution_count": 10,
   "metadata": {},
   "outputs": [],
   "source": [
    "compl_scenarios = [d[ix][s] for ix in d for s in S]\n",
    "compl_scenarios = compl_scenarios[:600]"
   ]
  },
  {
   "cell_type": "code",
   "execution_count": 16,
   "metadata": {},
   "outputs": [],
   "source": [
    "scenarios = 20; reps = 30\n",
    "\n",
    "new_demand = {ix:{(s+1):compl_scenarios[ix*scenarios+s] for s in range(scenarios)} for ix in range(reps)}"
   ]
  },
  {
   "cell_type": "code",
   "execution_count": 20,
   "metadata": {},
   "outputs": [],
   "source": [
    "file = open(\"C:/Users/ari_r/OneDrive - Universidad de los andes/Montreal 2024-10/stoch_LSP_PP/Experiments/Parameters/Demand_T20_S150_n4_FIFO\", \"wb\")\n",
    "dump(new_demand,file); file.close()\n"
   ]
  }
 ],
 "metadata": {
  "kernelspec": {
   "display_name": "Python 3",
   "language": "python",
   "name": "python3"
  },
  "language_info": {
   "codemirror_mode": {
    "name": "ipython",
    "version": 3
   },
   "file_extension": ".py",
   "mimetype": "text/x-python",
   "name": "python",
   "nbconvert_exporter": "python",
   "pygments_lexer": "ipython3",
   "version": "3.10.13"
  }
 },
 "nbformat": 4,
 "nbformat_minor": 2
}
